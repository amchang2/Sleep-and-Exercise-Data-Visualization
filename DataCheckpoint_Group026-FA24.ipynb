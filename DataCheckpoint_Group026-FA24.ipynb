{
 "cells": [
  {
   "cell_type": "markdown",
   "metadata": {},
   "source": [
    "**If you lost points on the last checkpoint you can get them back by responding to TA/IA feedback**  \n",
    "\n",
    "Update/change the relevant sections where you lost those points, make sure you respond on GitHub Issues to your TA/IA to call their attention to the changes you made here.\n",
    "\n",
    "Please update your Timeline... no battle plan survives contact with the enemy, so make sure we understand how your plans have changed."
   ]
  },
  {
   "cell_type": "markdown",
   "metadata": {},
   "source": [
    "# COGS 108 - Data Checkpoint"
   ]
  },
  {
   "cell_type": "markdown",
   "metadata": {},
   "source": [
    "# Names\n",
    "\n",
    "- Edna Ho\n",
    "- Amanda Chang\n",
    "- Alina Pham\n",
    "- Noelle Lam\n",
    "- Aarya Gupta"
   ]
  },
  {
   "cell_type": "markdown",
   "metadata": {},
   "source": [
    "# Research Question"
   ]
  },
  {
   "cell_type": "markdown",
   "metadata": {},
   "source": [
    "Is there a relationship between sleep and physical activity among adults that are overweight? To analyze this relationship, we will be quantifying quality of sleep by measuring the average hours slept each night. We will be quantifying physical activity by measuring an individuals average step count per day.\n"
   ]
  },
  {
   "cell_type": "markdown",
   "metadata": {},
   "source": [
    "## Background and Prior Work"
   ]
  },
  {
   "cell_type": "markdown",
   "metadata": {},
   "source": [
    "There are many factors that influence sleep, whether that be age, alcohol, or stress. It is shared knowledge that exercise plays a role in the quality and quantity of sleep. It is normal for one to feel more sleepy or drained after exercising. When exercising you're increasing both blood flow and heart rate making you more awake and wired. After some time, sleepiness occurs. The reason for that is because as we exercise our energy in the form of ATP is depleted as our muscles contract and there's an increase in neurotransmitters, resulting in muscle fatigue.  <a href=\"#cite_note-1\">[1]</a> We hope to further prove this point by tracking the heart rate of runners and the quality of sleep one gets through their sleep cycle. Of course we understand that there are other factors to consider when discussing what impacts sleep quality like stress and lifestyle, however, we'll focus on the affects of exercise specifically.\n",
    "\n",
    "There have been many studies done to support the idea of running having positive effects on people's sleep. One study conducted a test with 51 healthy adolescents running regularly in the morning and compared them to control subjects. They examined the electoencepahlographic patterns and psychological functionings of both groups before and after the three week period. By the end of the test the results were that \"objective sleep improved (slow-wave sleep increased; sleep onset latency decreased) in the running group compared with the control group\".  <a href=\"#cite_note-2\">[2]</a> Supporting the hypothesis that the quality of sleep improves when running. However, this is only accounting for those in the age of adolescence, the mean age of 18.30 years, so it fails to account for any people older than the age of adolescence.\n",
    "\n",
    "Another study was done to investigate the effects of exercise in those of an older age group. This study was conducted on participants 40 years or older with the mean age being 62 years old. Participants were then a part of a 12-week exercise training program. Data was measured through sleep quality assessments, a cardiopulmonary exercise test, and heart rate variability assessment. At the end of the program the results were that moderate intensity exercise training had a beneficial significance between exercise and cardiac autonomic function.  <a href=\"#cite_note-3\">[3]</a> The study suggests, even those older who exercise also experience better sleep, similar to the benefits observed in the adolescents.\n",
    "\n",
    "While many studies we have found support the claim that exercise enhances the sleep quality, we aim to be more specific in our findings. Showcasing the correlation of heart rate when running to the sleep cycles, and the improvement in sleep quality. Additionally considering how the level of experience and gender can connect and affect the outcome as well.\n",
    "\n",
    "References:\n",
    "References:\n",
    "1. <a name=\"cite_note-1\"></a> [^](#cite_ref-1) Nunez, K. (26 Jun 2020) Is It Normal to Take a Nap After a Workout? *healthline*. https://www.healthline.com/health/healthy-sleep/sleep-after-workout\n",
    "2. <a name=\"cite_note-2\"></a> [^](#cite_ref-2) Kalak, N., Gerber, M., Kirov, R., Mikoteit, T., Yordanova, J., Phuse, U., Holsboer, E., Brand, S. (2012) Daily Morning Running for 3 Weeks Improved Sleep and Psychological Functioning in Healthy Adolescents Compared With Controls *ScienceDirect*. https://www.sciencedirect.com/science/article/pii/S1054139X12001115\n",
    "3. <a name=\"cite_note-3\"></a> [^](#cite_ref-3) Tseng, T., Chen, H., Wang, Li., Chien, M. (15 Sep 2020) Effects of exercise training on sleep quality and heart rate variability in middle-aged and older adults with poor sleep quality: a randomized controlled trial *Journal of Clinical Sleep Medicine*. https://jcsm.aasm.org/doi/full/10.5664/jcsm.8560\n"
   ]
  },
  {
   "cell_type": "markdown",
   "metadata": {},
   "source": [
    "# Hypothesis\n"
   ]
  },
  {
   "cell_type": "markdown",
   "metadata": {},
   "source": [
    "Our hypothesis for this questions is that there will be a strong positive correlation between physical activity (measured by daily step counts)  and sleep quality (measured by average hours slept per night) among overweight adults. Adults with high step counts per day are more likely to experience longer sleep durations on average and could also experience lower resting heart rates which indicate good or improving cardiovascular health and sleep quality. We think this is because evidence points to the idea that regular physical activity can promote better sleep because of the release of adenosine that occurs during physical activity. Adenosine can result in a lower resting heart rate and can lead to deeper and higher quality of sleep.\n",
    "We expect that the positive correlation will be shown through an increase in average hours slept per night, a higher rating for quality of sleep, and a consistent or sustained decrease in individual’s resting heart rate when adults have a consistent or increasing number of daily step counts."
   ]
  },
  {
   "cell_type": "markdown",
   "metadata": {},
   "source": [
    "# Data"
   ]
  },
  {
   "cell_type": "markdown",
   "metadata": {},
   "source": [
    "## Data overview\n",
    "\n",
    "For each dataset include the following information\n",
    "- Dataset #1\n",
    "  - Dataset Name: Sleep and physical activity among adults with overweight and obesity\n",
    "  - Link to the dataset: https://osf.io/ga2mw\n",
    "  - Number of observations: 33\n",
    "  - Number of variables: 17\n",
    "  - In this dataset, 33 overweight or obese adults participated in this experiment. All participants wore the Fitbit Charge 3 day and night for 7,094 in order to see total sleep time (minutes), sleep efficiency (percent), and daily step counts (discrete integer) which are the 3 important variables to consider. Sleep outcomes were estimated via combined accelerometry, heart rate, and heart rate variability signals via Fitbit’s proprietary algorithm while daily step counts were estimated from the Fitbit via triaxial accelerometry.\n"
   ]
  },
  {
   "cell_type": "markdown",
   "metadata": {},
   "source": [
    "## Dataset #1 (use name instead of number here)"
   ]
  },
  {
   "cell_type": "code",
   "execution_count": 7,
   "metadata": {},
   "outputs": [],
   "source": [
    "import numpy as np\n",
    "import pandas as pd\n",
    "\n",
    "sm = pd.read_csv('supplemental_material#2.csv')\n",
    "sm_min = sm[['age', 'study_length', 'min_steps', 'min_sleep', 'min_sleep_eff']]\n",
    "sm_max = sm[['age', 'study_length', 'max_steps', 'max_sleep', 'max_sleep_eff']]\n",
    "sm_avg = sm[['age', 'study_length', 'avg_steps', 'avg_sleep', 'avg_sleep_eff']]"
   ]
  },
  {
   "cell_type": "markdown",
   "metadata": {},
   "source": [
    "# Ethics & Privacy"
   ]
  },
  {
   "cell_type": "markdown",
   "metadata": {},
   "source": [
    "With this research topic investigating the correlation between intensity of exercise and quality of sleep, it is critical to consider the ethical constraints regarding this research.\n",
    "\n",
    "The research question, in particular, reveals weaknesses including overgeneralizing the research findings. If there is indeed a positive correlation between intensity of exercise and quality of sleep, it could possibly overlook other factors, such as stress or mental health, that could also play a part in these findings. In addition to this, we must consider how equitable and accessible exercise is for certain portions of the population. Not all participants will have equal access to exercise whether it be walking or running which could cause a disparity for if exercise affects sleep. If participants do not have access to exercise, yet have varying levels of sleep quality, this has the potential to skew the data.\n",
    "\n",
    "As for the data proposed, there exists a possibility for bias in terms of the demographic of the sample population, self-reported data, and participants with more experienced exercise levels which would skew the data. The data could possibly reflect that of a certain age group, region, etc. Participants could also report their own quantifiable statistics such as heart rate and number of sleep cycles, disrupting the validity and control of the data collected. The third crucial bias was the varying exercise experience levels; one participant's high intensity rate could look entirely different from another participant's high intensity rate. Additionally, when considering sensitive personal data like heart rate and sleep cycles, it is also of importance for our group to consider the ethical implications of consent and data sharing.\n",
    "\n",
    "In order to mitigate these ethical concerns, our groups plans to address them from a top-down perspective. When starting our research for more datasets, we plan to parse through for diverse datasets that cover a large variety of demographics and health status. This will aid us, going forward with an intentional goal of minimizing selection bias and considering the more nuanced intersections of participants. Additionally, to maximize accuracy of results and to reduce self-reported data, our datasets should reflect those that have utilized standardized measuring systems such as heart rate monitors or sleep detectors. Lastly, the participants' safety and privacy is of upmost priority. Thus, finding datasets where participants have given consent and also retaining their anonymity will remain at the forefront of our research.\n",
    "\n",
    "Once datasets have been collected, our group will continue to remain attentive of potential bias by analyzing the patterns and ensuring that the data is taking account of different demographic groups. This will continue to persist for the entire duration of the analysis phase. The post-analysis phase will consist of being transparent with the findings and discussing how biases may have influenced the results in any way. Throughout the entire process, our group intends to check in regularly with the data to detect biases and pivot our direction, if needed. To further reduce self report bias, we will collect objective data such as the number of hours someone has slept, as well as the step count someone accumulates throughout the day. Collecting this data will help reduce biases since we are collecting objective data.\n",
    "\n",
    "The main objective for detecting bias is staying transparent with not only each other, but with the public. It is important that we are transparent with the limitations our research faces as well as the ways in which our group mitigates them."
   ]
  },
  {
   "cell_type": "markdown",
   "metadata": {},
   "source": [
    "# Team Expectations "
   ]
  },
  {
   "cell_type": "markdown",
   "metadata": {},
   "source": [
    "\n",
    "Read over the [COGS108 Team Policies](https://github.com/COGS108/Projects/blob/master/COGS108_TeamPolicies.md) individually. Then, include your group’s expectations of one another for successful completion of your COGS108 project below. Discuss and agree on what all of your expectations are. Discuss how your team will communicate throughout the quarter and consider how you will communicate respectfully should conflicts arise. By including each member’s name above and by adding their name to the submission, you are indicating that you have read the COGS108 Team Policies, accept your team’s expectations below, and have every intention to fulfill them. These expectations are for your team’s use and benefit — they won’t be graded for their details.\n",
    "\n",
    "* *Handle our dedicated sections by the assigned deadline*\n",
    "* Communicate transparently by being open and honest when deadlines cannot be met or holding each other accountable\n",
    "* *Make time for regularly scheduled meetings and if any time conflicts come up make sure to communicate with other members.*\n",
    "\n",
    "\n",
    "* Conflict Resoltuion Plan:\n",
    "    * In case of conflict we will...\n",
    "        * Have a zoom meeting dicussing any issues that we have\n",
    "        * Discuss how to prevent this issue from recurring again\n",
    "        * Open the conversation to anyone else who has any problems that we need to address\n",
    "        * Have empathy and understand that other members may be going through things as well"
   ]
  },
  {
   "cell_type": "markdown",
   "metadata": {},
   "source": [
    "# Project Timeline Proposal"
   ]
  },
  {
   "cell_type": "markdown",
   "metadata": {},
   "source": [
    "Specify your team's specific project timeline. An example timeline has been provided. Changes the dates, times, names, and details to fit your group's plan.\n",
    "\n",
    "If you think you will need any special resources or training outside what we have covered in COGS 108 to solve your problem, then your proposal should state these clearly. For example, if you have selected a problem that involves implementing multiple neural networks, please state this so we can make sure you know what you’re doing and so we can point you to resources you will need to implement your project. Note that you are not required to use outside methods.\n",
    "\n",
    "\n",
    "\n",
    "| Meeting Date  | Meeting Time| Completed Before Meeting  | Discuss at Meeting |\n",
    "|---|---|---|---|\n",
    "| 1/20  |  1 PM | Read & Think about COGS 108 expectations; brainstorm topics/questions  | Determine best form of communication; Discuss and decide on final project topic; discuss hypothesis; begin background research | \n",
    "| 1/26  |  10 AM |  Do background research on topic | Discuss ideal dataset(s) and ethics; draft project proposal | \n",
    "| 2/1  | 10 AM  | Edit, finalize, and submit proposal; Search for datasets  | Discuss Wrangling and possible analytical approaches; Assign group members to lead each specific part   |\n",
    "| 2/14  | 6 PM  | Import & Wrangle Data (Ant Man); EDA (Hulk) | Review/Edit wrangling/EDA; Discuss Analysis Plan   |\n",
    "| 2/23  | 12 PM  | Finalize wrangling/EDA; Begin Analysis (Iron Man; Thor) | Discuss/edit Analysis; Complete project check-in |\n",
    "| 3/13  | 12 PM  | Complete analysis; Draft results/conclusion/discussion (Wasp)| Discuss/edit full project |\n",
    "| 3/20  | Before 11:59 PM  | NA | Turn in Final Project & Group Project Surveys |"
   ]
  }
 ],
 "metadata": {
  "kernelspec": {
   "display_name": "Python 3 (ipykernel)",
   "language": "python",
   "name": "python3"
  },
  "language_info": {
   "codemirror_mode": {
    "name": "ipython",
    "version": 3
   },
   "file_extension": ".py",
   "mimetype": "text/x-python",
   "name": "python",
   "nbconvert_exporter": "python",
   "pygments_lexer": "ipython3",
   "version": "3.11.9"
  }
 },
 "nbformat": 4,
 "nbformat_minor": 4
}

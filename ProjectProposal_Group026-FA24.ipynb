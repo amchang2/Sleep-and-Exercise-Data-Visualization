{
 "cells": [
  {
   "cell_type": "markdown",
   "metadata": {},
   "source": [
    "# COGS 108 - Project Proposal"
   ]
  },
  {
   "cell_type": "markdown",
   "metadata": {},
   "source": [
    "# Names\n",
    "\n",
    "- Edna Ho\n",
    "- Alina Pham\n",
    "- Noelle Lam\n",
    "- Amanda Chang\n",
    "- Aarya Gupta"
   ]
  },
  {
   "cell_type": "markdown",
   "metadata": {},
   "source": [
    "# Research Question"
   ]
  },
  {
   "cell_type": "markdown",
   "metadata": {},
   "source": [
    "Is there a relationship between quality of sleep and exercise, specifically running? To analyze this relationship, we will be quantifying quality of sleep by measuring the number of sleep cycles an individual goes through each night. We will be quanitfiying running performance by measuring an individuals heartbeat by analyzing their beats per minute. We will be sure to account for variables such as experience level, age and gender."
   ]
  },
  {
   "cell_type": "markdown",
   "metadata": {},
   "source": [
    "## Background and Prior Work"
   ]
  },
  {
   "cell_type": "markdown",
   "metadata": {},
   "source": [
    "There are many factors that influence sleep, whether that be age, alcohol, or stress. It is shared knowledge that exercise plays a role in the quality and quantity of sleep. It is normal for one to feel more sleepy or drained after exercising. When exercising you're increasing both blood flow and heart rate making you more awake and wired. After some time, sleepiness occurs. The reason for that is because as we exercise our energy in the form of ATP is depleted as our muscles contract and there's an increase in neurotransmitters, resulting in muscle fatigue. [1] We hope to further prove this point by tracking the heart rate of runners and the quality of sleep one gets through their sleep cycle.\n",
    "\n",
    "There have been many studies done to support the idea of running having positive effects on people's sleep. One study conducted a test with 51 healthy adolescents running regularly in the morning and compared them to control subjects. They examined the electoencepahlographic patterns and psychological functionings of both groups before and after the three week period. By the end of the test the results were that \"objective sleep improved (slow-wave sleep increased; sleep onset latency decreased) in the running group compared with the control group\". [2] Supporting the hypothesis that the quality of sleep improves when running. However, this is only accounting for those in the age of adolescence, the mean age of 18.30 years, so it fails to account for any people older than the age of adolescence.\n",
    "\n",
    "Another study was done to investigate the effects of exercise in those of an older age group. This study was conducted on participants 40 years or older with the mean age being 62 years old. Participants were then a part of a 12-week exercise training program. Data was measured through sleep quality assessments, a cardiopulmonary exercise test, and heart rate variability assessment. At the end of the program the results were that moderate intensity exercise training had a beneficial significance between exercise and cardiac autonomic function. [3] The study suggests, even those older who exercise also experience better sleep, similar to the benefits observed in the adolescents.\n",
    "\n",
    "While many studies we have found support the claim that exercise enhances the sleep quality, we aim to be more specific in our findings. Showcasing the correlation of heart rate when running to the sleep cycles, and the improvement in sleep quality. Additionally considering how the level of experience and gender can connect and affect the outcome as well.\n",
    "\n",
    "\n",
    "References:\n",
    "\n",

    "1. https://www.healthline.com/health/healthy-sleep/sleep-after-workout\n",
    "2. https://www.sciencedirect.com/science/article/pii/S1054139X12001115\n",
    "3. https://jcsm.aasm.org/doi/full/10.5664/jcsm.8560"
   ]
  },
  {
   "cell_type": "markdown",
   "metadata": {},
   "source": [
    "# Hypothesis\n"
   ]
  },
  {
   "cell_type": "markdown",
   "metadata": {},
   "source": [
    "\n",
    "- Put your hypothesis here, this is different than your question. This what you think the answer will be \n",
    "- Ensure that this hypothesis is clear to readers\n",
    "- Explain why you think this will be the outcome (what was your thinking?)\n",
    "\n",
    "If you question is \"What is the association between X and Y\" then a hypothesis might be \"We predict a strong correlation between X and Y\" or you might predict no correlation or any other possible relationship. Briefly explain your thinking. (2-3 sentences)\n",
    "\n",
    "Strong correlation. When you release adenosine.\n",
    "\n",
    "- aarya"
   ]
  },
  {
   "cell_type": "markdown",
   "metadata": {},
   "source": [
    "# Data"
   ]
  },
  {
   "cell_type": "markdown",
   "metadata": {},
   "source": [
    "1. Explain what the **ideal** dataset you would want to answer this question. (This should include: What variables? How many observations? Who/what/how would these data be collected? How would these data be stored/organized?)\n",
    "    - Number of rem cycles and their stages, number of unfinished cycles, heart beat rate, experience levels, duration, TIME, age. 100 observations. Online resources/datasets, research, articles. make sure clean and tidy, plots.\n",
    "1. Search for potential **real** datasets that could provide you with something useful for this project.  You do not have to find every piece of data you will use, but you do need to have demonstrated some idea that (a) this data is gettable and (b) that this data may be different from what your ideal is.\n",
    "- amanda"
   ]
  },
  {
   "cell_type": "markdown",
   "metadata": {},
   "source": [
    "# Ethics & Privacy"
   ]
  },
  {
   "cell_type": "markdown",
   "metadata": {},
   "source": [
    "- Thoughtful discussion of ethical concerns included\n",
    "- Ethical concerns consider the whole data science process (question asked, data collected, data being used, the bias in data, analysis, post-analysis, etc.)\n",
    "- How your group handled bias/ethical concerns clearly described\n",
    "\n",
    "Acknowledge and address any ethics & privacy related issues of your question(s), proposed dataset(s), and/or analyses. Use the information provided in lecture to guide your group discussion and thinking. If you need further guidance, check out [Deon's Ethics Checklist](http://deon.drivendata.org/#data-science-ethics-checklist). In particular:\n",
    "\n",
    "- Are there any biases/privacy/terms of use issues with the data you propsed?\n",
    "- Are there potential biases in your dataset(s), in terms of who it composes, and how it was collected, that may be problematic in terms of it allowing for equitable analysis? (For example, does your data exclude particular populations, or is it likely to reflect particular human biases in a way that could be a problem?)\n",
    "- How will you set out to detect these specific biases before, during, and after/when communicating your analysis?\n",
    "- Are there any other issues related to your topic area, data, and/or analyses that are potentially problematic in terms of data privacy and equitable impact?\n",
    "- How will you handle issues you identified?\n",
    "\n",
    "\n",
    "With this research topic investigating the correlation between intensity of exercise and quality of sleep, it is critical to consider the ethical constraints regarding this research.\n",
    "\n",
    "The research question, in particular, reveals weaknesses including overgeneralizing the research findings. If there is indeed a positive correlation between intensity of exercise and quality of sleep, it could possibly overlook other factors, such as stress or mental health, that could also play a part in these findings. In addition to this, we must consider how equitable and accessible exercise is for certain portions of the population. Not all participants will have equal access to exercise whether it be walking or running which could cause a disparity for if exercise affects sleep. If participants do not have access to exercise, yet have varying levels of sleep quality, this has the potential to skew the data. \n",
    "\n",
    "As for the data proposed, there exists a possibility for bias in terms of the demographic of the sample population, self-reported data, and participants with more experienced exercise levels which would skew the data. The data could possibly reflect that of a certain age group, region, etc. Participants could also report their own quantifiable statistics such as heart rate and number of sleep cycles, disrupting the validity and control of the data collected. The third crucial bias was the varying exercise experience levels; one participant's high intensity rate could look entirely different from another participant's high intensity rate. Additionally, when considering sensitive personal data like heart rate and sleep cycles, it is also of importance for our group to consider the ethical implications of consent and data sharing. \n",
    "\n",
    "In order to mitigate these ethical concerns, our groups plans to address them from a top-down perspective. When starting our research for more datasets, we plan to parse through for diverse datasets that cover a large variety of demographics and health status. This will aid us, going forward with an intentional goal of minimizing selection bias and considering the more nuanced intersections of participants. Additionally, to maximize accuracy of results and to reduce self-reported data, our datasets should reflect those that have utilized standardized measuring systems such as heart rate monitors or sleep detectors. Lastly, the participants' safety and privacy is of upmost priority. Thus, finding datasets where participants have given consent and also retaining their anonymity will remain at the forefront of our research.\n",
    "\n",
    "Once datasets have been collected, our group will continue to remain attentive of potential bias by analyzing the patterns and ensuring that the data is taking account of different demographic groups. This will continue to persist for the entire duration of the analysis phase. The post-analysis phase will consist of being transparent with the findings and discussing how biases may have influenced the results in any way. Throughout the entire process, our group intends to check in regularly with the data to detect biases and pivot our direction, if needed.\n",
    "\n",
    "The main objective for detecting bias is staying transparent with not only each other, but with the public. It is important that we are transparent with the limitations our research faces as well as the ways in which our group mitigates them. "
   ]
  },
  {
   "cell_type": "markdown",
   "metadata": {},
   "source": [
    "# Team Expectations "
   ]
  },
  {
   "cell_type": "markdown",
   "metadata": {},
   "source": [
    "\n",
    "Read over the [COGS108 Team Policies](https://github.com/COGS108/Projects/blob/master/COGS108_TeamPolicies.md) individually. Then, include your group’s expectations of one another for successful completion of your COGS108 project below. Discuss and agree on what all of your expectations are. Discuss how your team will communicate throughout the quarter and consider how you will communicate respectfully should conflicts arise. By including each member’s name above and by adding their name to the submission, you are indicating that you have read the COGS108 Team Policies, accept your team’s expectations below, and have every intention to fulfill them. These expectations are for your team’s use and benefit — they won’t be graded for their details.\n",
    "\n",
    "* Handle our dedicated sections by the assigned deadline\n",
    "* Communicate transparently\n",
    "* Make time for regularly scheduled meetings"
   ]
  },
  {
   "cell_type": "markdown",
   "metadata": {},
   "source": [
    "# Project Timeline Proposal"
   ]
  },
  {
   "cell_type": "markdown",
   "metadata": {},
   "source": [
    "Specify your team's specific project timeline. An example timeline has been provided. Changes the dates, times, names, and details to fit your group's plan.\n",
    "\n",
    "If you think you will need any special resources or training outside what we have covered in COGS 108 to solve your problem, then your proposal should state these clearly. For example, if you have selected a problem that involves implementing multiple neural networks, please state this so we can make sure you know what you’re doing and so we can point you to resources you will need to implement your project. Note that you are not required to use outside methods.\n",
    "\n",
    "\n",
    "\n",
    "| Meeting Date  | Meeting Time| Completed Before Meeting  | Discuss at Meeting |\n",
    "|---|---|---|---|\n",
    "| 10/29  |  8 PM | Read & Think about COGS 108 expectations; brainstorm topics/questions  | Determine best form of communication; Discuss and decide on final project topic; discuss hypothesis; begin background research | \n",
    "| 11/5  |  8 PM |  Background research & collected datasets | Wrangle data, assign parts | \n",
    "| 11/12  | 8 PM  | Make graphs from clean & tidy data  | Review graphs and data   |\n",
    "| 11/19  | 8 PM  | Discuss progress on graphs and general direction of results | Check in with analysis & do project check in   |\n",
    "| 11/26  | 8 PM  | Complete analysis & begin conclusion and editing | Discuss full project |\n",
    "| 12/3  | 8 PM  | Wrap up project| Turn in final project and group project surveys |"
   ]
  },
  {
   "cell_type": "code",
   "execution_count": null,
   "metadata": {},
   "outputs": [],
   "source": []
  }
 ],
 "metadata": {
  "kernelspec": {
   "display_name": "Python 3 (ipykernel)",
   "language": "python",
   "name": "python3"
  },
  "language_info": {
   "codemirror_mode": {
    "name": "ipython",
    "version": 3
   },
   "file_extension": ".py",
   "mimetype": "text/x-python",
   "name": "python",
   "nbconvert_exporter": "python",
   "pygments_lexer": "ipython3",
   "version": "3.11.9"
  }
 },
 "nbformat": 4,
 "nbformat_minor": 4
}
